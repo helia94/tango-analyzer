{
 "cells": [
  {
   "cell_type": "markdown",
   "id": "266f1b10",
   "metadata": {},
   "source": [
    "# Tango Phrase & Section Toolkit\n",
    "Fast, modular playground for Argentine tango."
   ]
  },
  {
   "cell_type": "code",
   "execution_count": 1,
   "id": "48ec7743",
   "metadata": {},
   "outputs": [
    {
     "name": "stdout",
     "output_type": "stream",
     "text": [
      "\u001b[33mWARNING: Running pip as the 'root' user can result in broken permissions and conflicting behaviour with the system package manager. It is recommended to use a virtual environment instead: https://pip.pypa.io/warnings/venv\u001b[0m\u001b[33m\n",
      "\u001b[0m\n",
      "\u001b[1m[\u001b[0m\u001b[34;49mnotice\u001b[0m\u001b[1;39;49m]\u001b[0m\u001b[39;49m A new release of pip is available: \u001b[0m\u001b[31;49m24.0\u001b[0m\u001b[39;49m -> \u001b[0m\u001b[32;49m25.1.1\u001b[0m\n",
      "\u001b[1m[\u001b[0m\u001b[34;49mnotice\u001b[0m\u001b[1;39;49m]\u001b[0m\u001b[39;49m To update, run: \u001b[0m\u001b[32;49mpip install --upgrade pip\u001b[0m\n"
     ]
    }
   ],
   "source": [
    "# Install dependencies (Linux Docker friendly)\n",
    "!pip -q install librosa soundfile scikit-learn ipywidgets\n",
    "\n",
    "import numpy as np, pandas as pd, librosa, soundfile as sf\n",
    "from sklearn.cluster import KMeans\n",
    "from IPython.display import Audio, display\n",
    "import ipywidgets as widgets\n",
    "\n",
    "# Patch deprecated NumPy aliases used by librosa\n",
    "for alias, actual in [('complex', np.complex128), ('float', float)]:\n",
    "    if not hasattr(np, alias):\n",
    "        setattr(np, alias, actual)\n"
   ]
  },
  {
   "cell_type": "code",
   "execution_count": 2,
   "id": "189f9d4a",
   "metadata": {},
   "outputs": [],
   "source": [
    "from abc import ABC, abstractmethod\n",
    "\n",
    "class PhraseFinderInterface(ABC):\n",
    "    @abstractmethod\n",
    "    def getPhraseOnSet(self): ...\n",
    "    @abstractmethod\n",
    "    def getSectionOnSet(self): ...\n"
   ]
  },
  {
   "cell_type": "code",
   "execution_count": 16,
   "id": "6f0441b1",
   "metadata": {},
   "outputs": [],
   "source": [
    "class VisionClusterPhraseFinder(PhraseFinderInterface):\n",
    "    def __init__(self, audio_path, sr=22_050, n_mels=128,\n",
    "                 hop=1024, tol=0.25, max_tries=10):\n",
    "        # load & features\n",
    "        self.y, self.sr = librosa.load(audio_path, sr=sr)\n",
    "        self.total = len(self.y) / sr\n",
    "        S = librosa.feature.melspectrogram(y=self.y, sr=sr,\n",
    "                                           n_fft=2048, hop_length=hop,\n",
    "                                           n_mels=n_mels, power=2.0)\n",
    "        F = librosa.power_to_db(S, ref=np.max)[:20].T          # (frames × 20)\n",
    "        self.times = librosa.frames_to_time(\n",
    "            np.arange(F.shape[0]), sr=sr, hop_length=hop)\n",
    "        self.hop = hop\n",
    "\n",
    "        # ---- sections (5) ----\n",
    "        cuts = self._tier_frames(F, k=5, exp=self.total/5,\n",
    "                                 tol=tol, max_tries=max_tries, offset=0)\n",
    "        sec_start_frames = np.insert(cuts, 0, 0)               # 0 + 4 cuts = 5\n",
    "        sec_end_frames   = np.append(cuts, len(self.times)-1)\n",
    "        self.sec_on = self.times[sec_start_frames]             # len == 5\n",
    "\n",
    "        # ---- phrases (20) ----\n",
    "        ph_on = [0.0]\n",
    "        for s, e in zip(sec_start_frames, sec_end_frames):\n",
    "            seg_dur = self.times[e] - self.times[s]\n",
    "            ph_cuts = self._tier_frames(\n",
    "                F[s:e], k=4, exp=seg_dur/4,\n",
    "                tol=tol, max_tries=max_tries, offset=s)\n",
    "            ph_on.extend(self.times[ph_cuts])\n",
    "\n",
    "        # ensure exactly 20\n",
    "        self.ph_on = np.array(sorted(np.unique(ph_on)))\n",
    "        if len(self.ph_on) > 20:\n",
    "            self.ph_on = self.ph_on[:20]\n",
    "        elif len(self.ph_on) < 20:\n",
    "            need = 20 - len(self.ph_on)\n",
    "            extra = np.linspace(self.ph_on[-1], self.total - 0.001, need+2)[1:-1]\n",
    "            self.ph_on = np.append(self.ph_on, extra)\n",
    "\n",
    "    # ---------------- helpers ----------------\n",
    "    def getSectionOnSet(self): return self.sec_on\n",
    "    def getPhraseOnSet(self):  return self.ph_on\n",
    "\n",
    "    def _tier_frames(self, feats, k, exp, tol, max_tries, offset):\n",
    "        \"\"\"Try K-Means up to max_tries; if durations not ~equal, fall back to equal grid.\"\"\"\n",
    "        if feats.shape[0] <= k:                    # very short segment\n",
    "            step = feats.shape[0] // k\n",
    "            return (np.arange(step, feats.shape[0], step)[:k-1] + offset)\n",
    "\n",
    "        for seed in range(max_tries):\n",
    "            labels = KMeans(k, random_state=seed, n_init=5).fit(feats).labels_\n",
    "            cuts = np.where(np.diff(labels, prepend=labels[0]))[0]\n",
    "            if len(cuts) != k-1:            # empty cluster\n",
    "                continue\n",
    "            frames = cuts + offset\n",
    "            durations = np.diff(np.append([offset], frames)) * self.hop / self.sr\n",
    "            if np.all((durations > exp*(1-tol)) & (durations < exp*(1+tol))):\n",
    "                return frames\n",
    "\n",
    "        # fallback: even split\n",
    "        step = feats.shape[0] // k\n",
    "        return (np.arange(step, feats.shape[0], step)[:k-1] + offset)"
   ]
  },
  {
   "cell_type": "code",
   "execution_count": 4,
   "id": "741a54a3",
   "metadata": {},
   "outputs": [],
   "source": [
    "class AudioSplitter:\n",
    "    def __init__(self, y, sr): self.y, self.sr = y, sr\n",
    "    def split(self, onsets):\n",
    "        onsets = np.append(onsets, len(self.y)/self.sr)\n",
    "        return [self.y[int(s*self.sr):int(e*self.sr)] for s, e in zip(onsets[:-1], onsets[1:])]\n"
   ]
  },
  {
   "cell_type": "code",
   "execution_count": 5,
   "id": "49d944e5",
   "metadata": {},
   "outputs": [],
   "source": [
    "class SegmentPlayer:\n",
    "    \"\"\"Simple dropdown widget to play segments.\"\"\"\n",
    "    def __init__(self, segments, sr):\n",
    "        self.segments, self.sr = segments, sr\n",
    "        self._ui()\n",
    "    def _ui(self):\n",
    "        dd = widgets.Dropdown(options=[(f'Seg {i+1}', i) for i in range(len(self.segments))],\n",
    "                              description='Play:')\n",
    "        out = widgets.Output()\n",
    "        def on_change(ch):\n",
    "            with out:\n",
    "                out.clear_output()\n",
    "                display(Audio(self.segments[ch[\"new\"]], rate=self.sr))\n",
    "        dd.observe(on_change, names='value')\n",
    "        display(dd, out)\n"
   ]
  },
  {
   "cell_type": "code",
   "execution_count": 6,
   "id": "3702d430",
   "metadata": {},
   "outputs": [],
   "source": [
    "class StatsReporter:\n",
    "    def __init__(self, onsets, total_dur):\n",
    "        self.onsets = np.array(onsets)\n",
    "        self.total_dur = total_dur\n",
    "        self.durs = np.diff(np.append(self.onsets, total_dur))\n",
    "    def summary(self):\n",
    "        print(\"Count:\", len(self.onsets))\n",
    "        print(\"Durations (s):\", np.round(self.durs, 2))\n",
    "        print(f\"Mean: {self.durs.mean():.2f}s  Std: {self.durs.std():.2f}s\")\n"
   ]
  },
  {
   "cell_type": "code",
   "execution_count": 17,
   "id": "87810183",
   "metadata": {},
   "outputs": [
    {
     "name": "stdout",
     "output_type": "stream",
     "text": [
      "Sections: [  0.    33.76  67.52 101.29 135.05]\n",
      "Phrases: [  0.     8.41  16.81  25.22  42.17  50.57  58.98  75.93  84.33  92.74\n",
      " 109.69 118.1 ]\n"
     ]
    }
   ],
   "source": [
    "# 🔥 Quick demo (adjust path)\n",
    "audio_path = 'data/Carlos_di_Sarli_Instrumental_Cara.mp3'\n",
    "finder = VisionClusterPhraseFinder(audio_path)\n",
    "print(\"Sections:\", np.round(finder.getSectionOnSet(), 2))\n",
    "print(\"Phrases:\", np.round(finder.getPhraseOnSet()[:12], 2))\n"
   ]
  },
  {
   "cell_type": "code",
   "execution_count": 18,
   "id": "89e9965e-0384-488f-bcf8-7534ef3a1d3b",
   "metadata": {},
   "outputs": [],
   "source": [
    "splitter = AudioSplitter(finder.y, finder.sr)\n"
   ]
  },
  {
   "cell_type": "code",
   "execution_count": 19,
   "id": "4dbd9ac3-c4b3-4670-94ca-daeb90fa00ca",
   "metadata": {},
   "outputs": [],
   "source": [
    "phrases = splitter.split(finder.getPhraseOnSet())"
   ]
  },
  {
   "cell_type": "code",
   "execution_count": 20,
   "id": "9b641f64-f0bd-43e2-b683-f352fe9d9503",
   "metadata": {},
   "outputs": [],
   "source": [
    "sections = splitter.split(finder.getSectionOnSet())"
   ]
  },
  {
   "cell_type": "code",
   "execution_count": 21,
   "id": "73073fe1-2b34-48e3-9e34-2309e447c842",
   "metadata": {},
   "outputs": [
    {
     "data": {
      "application/vnd.jupyter.widget-view+json": {
       "model_id": "6f0f2098962645afb211391da6bbe94b",
       "version_major": 2,
       "version_minor": 0
      },
      "text/plain": [
       "Dropdown(description='Play:', options=(('Seg 1', 0), ('Seg 2', 1), ('Seg 3', 2), ('Seg 4', 3), ('Seg 5', 4), (…"
      ]
     },
     "metadata": {},
     "output_type": "display_data"
    },
    {
     "data": {
      "application/vnd.jupyter.widget-view+json": {
       "model_id": "16a821832efc48449c31da229d19df54",
       "version_major": 2,
       "version_minor": 0
      },
      "text/plain": [
       "Output()"
      ]
     },
     "metadata": {},
     "output_type": "display_data"
    },
    {
     "data": {
      "text/plain": [
       "<__main__.SegmentPlayer at 0x722706f60090>"
      ]
     },
     "execution_count": 21,
     "metadata": {},
     "output_type": "execute_result"
    }
   ],
   "source": [
    "\n",
    "SegmentPlayer(phrases, finder.sr)\n"
   ]
  },
  {
   "cell_type": "code",
   "execution_count": 22,
   "id": "9a2aaf6a-208c-4435-a1a0-1bd6a6937d97",
   "metadata": {},
   "outputs": [
    {
     "data": {
      "application/vnd.jupyter.widget-view+json": {
       "model_id": "a18fd75b0445498d9b9b4539883108e0",
       "version_major": 2,
       "version_minor": 0
      },
      "text/plain": [
       "Dropdown(description='Play:', options=(('Seg 1', 0), ('Seg 2', 1), ('Seg 3', 2), ('Seg 4', 3), ('Seg 5', 4)), …"
      ]
     },
     "metadata": {},
     "output_type": "display_data"
    },
    {
     "data": {
      "application/vnd.jupyter.widget-view+json": {
       "model_id": "bf0acde59775421d8bd4e0912ebfe862",
       "version_major": 2,
       "version_minor": 0
      },
      "text/plain": [
       "Output()"
      ]
     },
     "metadata": {},
     "output_type": "display_data"
    },
    {
     "data": {
      "text/plain": [
       "<__main__.SegmentPlayer at 0x7227028ae9d0>"
      ]
     },
     "execution_count": 22,
     "metadata": {},
     "output_type": "execute_result"
    }
   ],
   "source": [
    "SegmentPlayer(sections, finder.sr)\n"
   ]
  },
  {
   "cell_type": "code",
   "execution_count": 23,
   "id": "40bf99a9-5346-4580-8bfa-4ed588f7e86a",
   "metadata": {},
   "outputs": [
    {
     "name": "stdout",
     "output_type": "stream",
     "text": [
      "Count: 20\n",
      "Durations (s): [ 8.41  8.41  8.41 16.95  8.41  8.41 16.95  8.41  8.41 16.95  8.41  8.41\n",
      " 17.    8.45  8.45  1.71  1.71  1.71  1.71  1.71]\n",
      "Mean: 8.45s  Std: 5.09s\n"
     ]
    }
   ],
   "source": [
    "StatsReporter(finder.getPhraseOnSet(), len(finder.y)/finder.sr).summary()"
   ]
  },
  {
   "cell_type": "code",
   "execution_count": null,
   "id": "49524952-26bb-440a-858f-62962529f3c5",
   "metadata": {},
   "outputs": [],
   "source": [
    "StatsReporter(finder.getSectionOnSet(), len(finder.y)/finder.sr).summary()"
   ]
  }
 ],
 "metadata": {
  "kernelspec": {
   "display_name": "Python 3 (ipykernel)",
   "language": "python",
   "name": "python3"
  },
  "language_info": {
   "codemirror_mode": {
    "name": "ipython",
    "version": 3
   },
   "file_extension": ".py",
   "mimetype": "text/x-python",
   "name": "python",
   "nbconvert_exporter": "python",
   "pygments_lexer": "ipython3",
   "version": "3.11.13"
  }
 },
 "nbformat": 4,
 "nbformat_minor": 5
}
